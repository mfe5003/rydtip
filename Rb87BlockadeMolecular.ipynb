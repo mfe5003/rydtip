{
 "cells": [
  {
   "cell_type": "code",
   "execution_count": 5,
   "metadata": {},
   "outputs": [],
   "source": [
    "import scipy.constants as consts\n",
    "from lib.AtomNumbers import QD, Rb87, State, TermEnergy\n",
    "import lib.DipoleDipoleInteractions as ddi\n",
    "import numpy as np\n",
    "import matplotlib as mpl\n",
    "import matplotlib.pyplot as plt\n",
    "from sympy import *\n",
    "import datetime\n",
    "%matplotlib inline"
   ]
  },
  {
   "cell_type": "code",
   "execution_count": 6,
   "metadata": {},
   "outputs": [],
   "source": [
    "sI1 = State(61, 2, 1.5, 1.5) # center molecular state\n",
    "sI2 = sI1\n",
    "ED_order = 2 # electric dipole transtitions\n",
    "E_cut = 30e9/consts.c # 1/m\n",
    "F_cut = 0.01 # c3/R^3/dE > F_cut (GHz/um**3), only include state with non-negligable coulpings\n",
    "R0 = 4 # perform F_cut at R0 (um)"
   ]
  },
  {
   "cell_type": "markdown",
   "metadata": {},
   "source": [
    "#### Find all states with same angular momentum as the center state within E_cut of the center"
   ]
  },
  {
   "cell_type": "code",
   "execution_count": 13,
   "metadata": {},
   "outputs": [
    {
     "name": "stdout",
     "output_type": "stream",
     "text": [
      "59D_3/2, mj=3/2 + 63D_3/2, mj=3/2: -6247236663.505826\n",
      "60D_3/2, mj=3/2 + 62D_3/2, mj=3/2: -1559614504.0297267\n",
      "60D_3/2, mj=3/2 + 63D_3/2, mj=3/2: 27215998589.44063\n",
      "61D_3/2, mj=3/2 + 61D_3/2, mj=3/2: 0.0\n",
      "62D_3/2, mj=3/2 + 60D_3/2, mj=3/2: -1559614504.0297267\n",
      "63D_3/2, mj=3/2 + 59D_3/2, mj=3/2: -6247236663.505826\n",
      "63D_3/2, mj=3/2 + 60D_3/2, mj=3/2: 27215998589.44063\n",
      "7\n"
     ]
    }
   ],
   "source": [
    "E0 = TermEnergy(Rb87, sI1)[0]+TermEnergy(Rb87, sI2)[0] # center energy\n",
    "E_range = (consts.c*(E0-E_cut),consts.c*(E0+E_cut))\n",
    "n1_min, n1_max = (sI1.n-2, sI1.n+2)\n",
    "n2_min, n2_max = (sI2.n-2, sI2.n+2)\n",
    "l_min = max(0,min(sI1.l-ED_order,sI2.l-ED_order))\n",
    "l_max = max(sI1.l+ED_order,sI2.l+ED_order)\n",
    "mj_total = sI1.mj + sI2.mj\n",
    "\n",
    "states1 = [ State(n,sI1.l,sI1.j,sI1.mj) for n in range(n1_min,n1_max+1)]\n",
    "states2 = [ State(n,sI2.l,sI2.j,sI2.mj) for n in range(n2_min,n2_max+1)]\n",
    "\n",
    "molecular_states = [[]]\n",
    "for s1 in states1:\n",
    "    for s2 in states2:\n",
    "        E = TermEnergy(Rb87, s1)[0]+TermEnergy(Rb87, s2)[0]\n",
    "        if abs(E-E0)<E_cut:\n",
    "            molecular_states[0].append(((s1,s2),consts.c*(E-E0)))\n",
    "            print(\"{} + {}: {}\".format(s1,s2,consts.c*(E-E0)))\n",
    "    \n",
    "print(len(molecular_states[0]))"
   ]
  },
  {
   "cell_type": "markdown",
   "metadata": {},
   "source": [
    "#### Find all states that couple to the previous order of states"
   ]
  },
  {
   "cell_type": "code",
   "execution_count": 14,
   "metadata": {
    "scrolled": true
   },
   "outputs": [],
   "source": [
    "n1_range = (n1_min,n1_max)\n",
    "n2_range = (n2_min,n2_max)\n",
    "for o in range(ED_order):\n",
    "    ms_class = molecular_states[o]\n",
    "    ang_mom_list = ddi.next_ED_order(ms_class)\n",
    "    #print ang_mom_list\n",
    "    temp = set()\n",
    "    for ms in ms_class:\n",
    "        #print ms[0]\n",
    "        t = ddi.filter_molecular_states(Rb87, ms[0][0], ms[0][1], ang_mom_list, F_cut, R0, n1_range, n2_range)\n",
    "        temp.update(t)\n",
    "    molecular_states.append([])\n",
    "    for x in temp:\n",
    "        n,l,j,m = x[0]\n",
    "        ts1 = State(n,l,j,m)\n",
    "        n,l,j,m = x[1]\n",
    "        ts2 = State(n,l,j,m)\n",
    "        te = consts.c*(TermEnergy(Rb87, s1)[0]+TermEnergy(Rb87, s2)[0])\n",
    "        molecular_states[o+1].append(((ts1,ts2),te))"
   ]
  },
  {
   "cell_type": "code",
   "execution_count": 15,
   "metadata": {},
   "outputs": [
    {
     "name": "stdout",
     "output_type": "stream",
     "text": [
      "7\n",
      "32\n",
      "98\n"
     ]
    }
   ],
   "source": [
    "print(len(molecular_states[0]))\n",
    "print(len(molecular_states[1]))\n",
    "print(len(molecular_states[2]))"
   ]
  },
  {
   "cell_type": "markdown",
   "metadata": {},
   "source": [
    "now build up the basis state from the calculation from all order of ED coupling"
   ]
  },
  {
   "cell_type": "code",
   "execution_count": 16,
   "metadata": {},
   "outputs": [
    {
     "name": "stdout",
     "output_type": "stream",
     "text": [
      "130\n"
     ]
    }
   ],
   "source": [
    "basis = set()\n",
    "for ms_class in molecular_states:\n",
    "    for ms in ms_class:\n",
    "        basis.add( (ms[0][0].state_tuple(), ms[0][1].state_tuple()) )\n",
    "basis = list(basis)\n",
    "print(len(basis))\n",
    "\n",
    "basis_states = []\n",
    "for ms in basis:\n",
    "    basis_states.append((State(ms[0][0],ms[0][1],ms[0][2],ms[0][3]), State(ms[1][0],ms[1][1],ms[1][2],ms[1][3])))"
   ]
  },
  {
   "cell_type": "code",
   "execution_count": 17,
   "metadata": {},
   "outputs": [],
   "source": [
    "fd = []\n",
    "for ms in basis_states:\n",
    "    fd.append(consts.c*(TermEnergy(Rb87,ms[0])[0]+TermEnergy(Rb87,ms[1])[0]-E0)*1e-9) #GHz\n",
    "forster_defects = np.array(fd)"
   ]
  },
  {
   "cell_type": "markdown",
   "metadata": {},
   "source": [
    "### Build the Hamiltonian"
   ]
  },
  {
   "cell_type": "code",
   "execution_count": 19,
   "metadata": {},
   "outputs": [],
   "source": [
    "dimension = len(basis) # add on the initial state\n",
    "Hcoupling = np.zeros((dimension,dimension))\n",
    "for i in range(dimension):\n",
    "    for j in range(dimension):\n",
    "        ms1 = basis_states[i]\n",
    "        ms2 = basis_states[j]\n",
    "        temp = Rb87.c3(ms1[0],ms1[1],ms2[0],ms2[1])\n",
    "        if temp != 0:\n",
    "            Hcoupling[i][j] = temp[0]\n",
    "            Hcoupling[j][i] = temp[0]"
   ]
  },
  {
   "cell_type": "code",
   "execution_count": 20,
   "metadata": {},
   "outputs": [
    {
     "data": {
      "image/png": "[encoded data removed]",
      "text/plain": [
       "<matplotlib.figure.Figure at 0x7fec88f68e80>"
      ]
     },
     "metadata": {},
     "output_type": "display_data"
    }
   ],
   "source": [
    "fig = plt.figure(figsize=(6, 6))\n",
    "\n",
    "ax = fig.add_subplot(111)\n",
    "ax.set_title('colorMap')\n",
    "lim=0.001\n",
    "plt.imshow(Hcoupling, vmin=-lim, vmax=lim)\n",
    "ax.set_aspect('equal')\n",
    "\n",
    "cax = fig.add_axes([0.12, 0.1, 0.78, 0.8])\n",
    "cax.get_xaxis().set_visible(False)\n",
    "cax.get_yaxis().set_visible(False)\n",
    "cax.patch.set_alpha(0)\n",
    "cax.set_frame_on(False)\n",
    "cb = plt.colorbar(orientation='vertical')\n",
    "plt.show()"
   ]
  },
  {
   "cell_type": "markdown",
   "metadata": {},
   "source": [
    "#### verify at large R (100 um)"
   ]
  },
  {
   "cell_type": "code",
   "execution_count": 21,
   "metadata": {},
   "outputs": [],
   "source": [
    "cindex = np.abs(forster_defects).argsort()[0]"
   ]
  },
  {
   "cell_type": "code",
   "execution_count": 22,
   "metadata": {},
   "outputs": [
    {
     "data": {
      "text/plain": [
       "[[100,\n",
       "  -7.769403566536614e-10,\n",
       "  0.9999999844593569,\n",
       "  array([ 48,  31,  27,  36, 111])]]"
      ]
     },
     "execution_count": 22,
     "metadata": {},
     "output_type": "execute_result"
    }
   ],
   "source": [
    "ddi.getRelevantCouplings(Hcoupling, forster_defects, 100, 0.001)"
   ]
  },
  {
   "cell_type": "code",
   "execution_count": 23,
   "metadata": {},
   "outputs": [
    {
     "data": {
      "text/plain": [
       "((61, 2, 1.5, 1.5), (61, 2, 1.5, 1.5))"
      ]
     },
     "execution_count": 23,
     "metadata": {},
     "output_type": "execute_result"
    }
   ],
   "source": [
    "basis[cindex]"
   ]
  },
  {
   "cell_type": "markdown",
   "metadata": {},
   "source": [
    "#### Calculate blockade curves"
   ]
  },
  {
   "cell_type": "code",
   "execution_count": 24,
   "metadata": {},
   "outputs": [],
   "source": [
    "data = []"
   ]
  },
  {
   "cell_type": "code",
   "execution_count": 25,
   "metadata": {},
   "outputs": [
    {
     "name": "stdout",
     "output_type": "stream",
     "text": [
      "4.0\n",
      "16:26:36.362461\n",
      "5.005025125628141\n",
      "16:26:37.332794\n",
      "6.010050251256281\n",
      "16:26:38.313623\n",
      "7.015075376884422\n",
      "16:26:39.291968\n",
      "8.020100502512562\n",
      "16:26:40.261516\n",
      "9.025125628140703\n",
      "16:26:41.236048\n",
      "10.030150753768844\n",
      "16:26:42.204774\n",
      "11.035175879396984\n",
      "16:26:43.170930\n",
      "12.040201005025127\n",
      "16:26:44.122436\n",
      "13.045226130653267\n",
      "16:26:45.099188\n",
      "14.0\n",
      "16:26:46.027668\n"
     ]
    }
   ],
   "source": [
    "r_start = 4\n",
    "r_stop = 14\n",
    "samples = 200\n",
    "r_last = 0\n",
    "for r in np.linspace(r_start,r_stop,samples):\n",
    "    current_time = datetime.datetime.now().time()\n",
    "    if int(r) > int(r_last):\n",
    "        print(r)\n",
    "        print(current_time.isoformat())\n",
    "        r_last = r\n",
    "    data = data + ddi.getRelevantCouplings(Hcoupling, forster_defects, r, 0.01, 1.0)"
   ]
  },
  {
   "cell_type": "code",
   "execution_count": 45,
   "metadata": {},
   "outputs": [],
   "source": [
    "mark_r = [0.20202, 0.40404, 0.606061, 0.808081, 1.0101, 1.21212, 1.41414, \\\n",
    "1.61616, 1.81818, 2.0202, 2.22222, 2.42424, 2.62626, 2.82828, 3.0303, \\\n",
    "3.23232, 3.43434, 3.63636, 3.83838, 4.0404, 4.24242, 4.44444, \\\n",
    "4.64646, 4.84848, 5.05051, 5.25253, 5.45455, 5.65657, 5.85859, \\\n",
    "6.06061, 6.26263, 6.46465, 6.66667, 6.86869, 7.07071, 7.27273, \\\n",
    "7.47475, 7.67677, 7.87879, 8.08081, 8.28283, 8.48485, 8.68687, \\\n",
    "8.88889, 9.09091, 9.29293, 9.49495, 9.69697, 9.89899, 10.101, 10.303, \\\n",
    "10.5051, 10.7071, 10.9091, 11.1111, 11.3131, 11.5152, 11.7172, \\\n",
    "11.9192, 12.1212, 12.3232, 12.5253, 12.7273, 12.9293, 13.1313, \\\n",
    "13.3333, 13.5354, 13.7374, 13.9394, 14.1414, 14.3434, 14.5455, \\\n",
    "14.7475, 14.9495, 15.1515, 15.3535, 15.5556, 15.7576, 15.9596, \\\n",
    "16.1616, 16.3636, 16.5657, 16.7677, 16.9697, 17.1717, 17.3737, \\\n",
    "17.5758, 17.7778, 17.9798, 18.1818, 18.3838, 18.5859, 18.7879, \\\n",
    "18.9899, 19.1919, 19.3939, 19.596, 19.798, 20.]\n",
    "mark_B = [-10966.3, -1370.79, -406.16, -171.349, -87.7303, -50.7695, -31.971, \\\n",
    "-21.4175, -15.0414, -10.9642, -8.23635, -6.34261, -4.98687, -3.99069, \\\n",
    "-3.24218, -2.66872, -2.22181, -1.86818, -1.58454, -1.35422, -1.16507, \\\n",
    "-1.00814, -0.876692, -0.76563, -0.671032, -0.589863, -0.51975, \\\n",
    "-0.458827, -0.405612, -0.358925, -0.317818, -0.281522, -0.24941, \\\n",
    "-0.220963, -0.195746, -0.17339, -0.153577, -0.136026, -0.120493, \\\n",
    "-0.106757, -0.0946198, -0.0839036, -0.074448, -0.0661083, -0.0587547, \\\n",
    "-0.0522711, -0.0465538, -0.0415106, -0.0370599, -0.0331295, \\\n",
    "-0.0296559, -0.0265832, -0.0238624, -0.0214505, -0.01931, -0.017408, \\\n",
    "-0.0157157, -0.0142081, -0.0128632, -0.0116618, -0.0105871, \\\n",
    "-0.00962452, -0.00876107, -0.00798552, -0.00728798, -0.00665975, \\\n",
    "-0.00609318, -0.00558157, -0.00511896, -0.00470014, -0.00432048, \\\n",
    "-0.0039759, -0.00366277, -0.00337787, -0.00311837, -0.00288173, \\\n",
    "-0.00266568, -0.00246822, -0.00228756, -0.00212208, -0.00197036, \\\n",
    "-0.0018311, -0.00170316, -0.0015855, -0.0014772, -0.00137741, \\\n",
    "-0.00128538, -0.00120043, -0.00112194, -0.00104937, -0.000982209, \\\n",
    "-0.00092, -0.000862334, -0.000808835, -0.000759164, -0.000713011, \\\n",
    "-0.000670096, -0.00063016, -0.000592972]"
   ]
  },
  {
   "cell_type": "code",
   "execution_count": 27,
   "metadata": {},
   "outputs": [
    {
     "data": {
      "image/png": "[encoded data removed]",
      "text/plain": [
       "<matplotlib.figure.Figure at 0x7fec86ab07b8>"
      ]
     },
     "metadata": {},
     "output_type": "display_data"
    }
   ],
   "source": [
    "plt.figure(figsize=(12,8))\n",
    "\n",
    "x =[]\n",
    "x.append([ d[0] for d in data ])\n",
    "x.append([ d[1] for d in data ])\n",
    "x.append(np.real([ 1-sqrt(d[2]) for d in data ]))\n",
    "\n",
    "idx = x[2].argsort()[::-1]\n",
    "x[0] = [ x[0][i] for i in idx ]\n",
    "x[1] = [ x[1][i] for i in idx ]\n",
    "x[2] = [ x[2][i] for i in idx ]\n",
    "\n",
    "plt.scatter(x[0], x[1], c=x[2], marker='o', s=30, vmax=1, vmin=0, linewidth=0, alpha=1)\n",
    "# plt.plot(mark_r,mark_B, color='r')\n",
    "\n",
    "plt.gray()\n",
    "plt.ylim(-0.01,0.01)\n",
    "plt.xlim(r_start,r_stop)\n",
    "\n",
    "plt.grid(b=True, which='major', color='0.5', linestyle='-')\n",
    "plt.grid(b=True, which='minor', color='0.75', linestyle='--')\n",
    "\n",
    "plt.title('Rybderg Blockade ${}+{}$, B=0 T'.format(sI1,sI2), fontsize=24)\n",
    "plt.xlabel('$R (\\mu m)$', fontsize=20)\n",
    "plt.ylabel('U (GHz)', fontsize=20)\n",
    "\n",
    "#plt.savefig('MolecularResonances_B=370uT_97D52m52_97D52m52.pdf')\n",
    "plt.show()"
   ]
  },
  {
   "cell_type": "code",
   "execution_count": null,
   "metadata": {
    "collapsed": true
   },
   "outputs": [],
   "source": []
  }
 ],
 "metadata": {
  "kernelspec": {
   "display_name": "Python 3",
   "language": "python",
   "name": "python3"
  },
  "language_info": {
   "codemirror_mode": {
    "name": "ipython",
    "version": 3
   },
   "file_extension": ".py",
   "mimetype": "text/x-python",
   "name": "python",
   "nbconvert_exporter": "python",
   "pygments_lexer": "ipython3",
   "version": "3.5.2"
  }
 },
 "nbformat": 4,
 "nbformat_minor": 1
}
