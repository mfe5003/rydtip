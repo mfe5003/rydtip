{
 "cells": [
  {
   "cell_type": "code",
   "execution_count": 1,
   "metadata": {},
   "outputs": [],
   "source": [
    "from scipy.constants import physical_constants as pc\n",
    "import scipy.constants as consts\n",
    "import numpy as np\n",
    "import os.path\n",
    "import sqlite3\n",
    "from sympy import *\n",
    "from sympy.physics.wigner import clebsch_gordan, wigner_6j"
   ]
  },
  {
   "cell_type": "markdown",
   "metadata": {},
   "source": [
    "## Common functions"
   ]
  },
  {
   "cell_type": "code",
   "execution_count": 2,
   "metadata": {},
   "outputs": [],
   "source": [
    "me = pc['electron mass']\n",
    "c = pc['speed of light in vacuum']\n",
    "Ry = pc['Rydberg constant']\n",
    "a0 = pc['Bohr radius']\n",
    "e0 = consts.epsilon_0 # this doesnt seem to be in the pc dictionary\n",
    "e = consts.e\n",
    "hbar = consts.hbar"
   ]
  },
  {
   "cell_type": "code",
   "execution_count": 3,
   "metadata": {
    "collapsed": true
   },
   "outputs": [],
   "source": [
    "default_rmedb_path = os.path.join('data','RMEdbs')"
   ]
  },
  {
   "cell_type": "code",
   "execution_count": 4,
   "metadata": {
    "collapsed": true
   },
   "outputs": [],
   "source": [
    "class Atom:\n",
    "    def __init__(self, Name, Z, Inuc):\n",
    "        self.Name = Name\n",
    "        self.Z = Z\n",
    "        self.Inuc = Inuc\n",
    "        self.Configuration = -1\n",
    "        self.NGround = -1\n",
    "        self.FD2 = -1\n",
    "        self.FD1 = -1\n",
    "        self.GHz_um3_factor = 1e9*(1/(4*np.pi*e0))*e**2\n",
    "        self.GHz_um3_factor *= a0[0]**2/(2*np.pi*hbar)\n",
    "        try:\n",
    "            self.registerRMEdb()\n",
    "        except IOError:\n",
    "            pass\n",
    "  \n",
    "\n",
    "    def registerRMEdb(self, db_file=None, db_path=default_rmedb_path ):\n",
    "        if db_file is None:\n",
    "            db_file = self.Name + '.sqlite3'\n",
    "        db_file = os.path.join(db_path, db_file)\n",
    "        if os.path.isfile(db_file):\n",
    "            self.rme_db = db_file\n",
    "        else:\n",
    "            self.rme_db = None\n",
    "            print(\"No database file found at {}\".format(db_file))\n",
    "            raise IOError\n",
    "      \n",
    "    def RMEs(self, state, n_range, l2, j2):\n",
    "        if self.rme_db is None:\n",
    "            raise IOError\n",
    "\n",
    "        # assumes l2 >= l1, if not swap\n",
    "        if int(l2) < state.l:\n",
    "            if state.j == float(j2):\n",
    "                j_index = 1\n",
    "            elif float(j2) > int(l2):\n",
    "                j_index = 2\n",
    "            else:\n",
    "                j_index = 0\n",
    "            l_str = int(l2)*10 + state.l\n",
    "            query = \"\"\"SELECT n, {} FROM L{} WHERE np=? AND n>=? AND n<=?\"\"\"\n",
    "\n",
    "        else: # otherwise do the normal order\n",
    "            if state.j == float(j2):\n",
    "                j_index = 1\n",
    "            elif state.j > state.l:\n",
    "                j_index = 2\n",
    "            else:\n",
    "                j_index = 0\n",
    "            l_str = int(l2) + state.l*10\n",
    "            query = \"\"\"SELECT np, {} FROM L{} WHERE n=? AND np>=? AND np<=?\"\"\"\n",
    "\n",
    "        if l_str == 1:\n",
    "            l_str = '01'\n",
    "\n",
    "        js = [\"jmjpm\", \"jpjpm\", \"jpjpp\"][j_index]\n",
    "        subs = (state.n, n_range[0], n_range[1])\n",
    "        #print(query,subs)\n",
    "\n",
    "        conn = sqlite3.connect(self.rme_db)\n",
    "        c = conn.cursor()\n",
    "        return c.execute(query.format(js, l_str), subs)\n",
    "      \n",
    "    def RME(self, state1, state2):\n",
    "        if self.rme_db is None:\n",
    "            raise IOError\n",
    "\n",
    "        # assumes l2 >= l1, if not swap\n",
    "        if state2.l < state1.l:\n",
    "            n1, l1, j1, mj1 = state2.state_tuple()\n",
    "            n2, l2, j2, mj2 = state1.state_tuple()\n",
    "        else: # otherwise do the normal order\n",
    "            n1, l1, j1, mj1 = state1.state_tuple()\n",
    "            n2, l2, j2, mj2 = state2.state_tuple()\n",
    "\n",
    "        l_str = l2 + l1*10 # matching the database table name L01: S->P\n",
    "        if l_str == 1:\n",
    "            l_str = '01'\n",
    "        # kind of a dumb check but whatever\n",
    "        if (l2 > 9) or (l1 > 9):\n",
    "            raise KeyError\n",
    "\n",
    "        # pick the j levels jm = j-0.5, jp = j+0.5, j'm = j'-0.5, j'p=j'+0.5\n",
    "        # jmj'p is non-physical for ED transition\n",
    "        if j1 == j2:\n",
    "            j_index = 1\n",
    "        elif j1 > l1:\n",
    "            j_index = 2\n",
    "        else:\n",
    "            j_index = 0\n",
    "\n",
    "        js = [\"jmjpm\", \"jpjpm\", \"jpjpp\"][j_index]\n",
    "        subs = (n1, n2)\n",
    "        query = \"\"\"SELECT {} FROM L{} WHERE n=? AND np=? LIMIT 1\"\"\".format(js, l_str)\n",
    "        #print(query,subs)\n",
    "\n",
    "        conn = sqlite3.connect(self.rme_db)\n",
    "        c = conn.cursor()\n",
    "        c.execute(query, subs)\n",
    "        return [c.fetchone()[0], 'a0?', None]\n",
    "  \n",
    "    # angular component of matrix element\n",
    "    # p is -1, 0, 1\n",
    "    # We use a symbolic package to deal with the wigner symbols to avoid numerical errors\n",
    "    def AME(self, state1, state2, p):\n",
    "        l1, j1, m1 = state1.angular_momentum()\n",
    "        l2, j2, m2 = state2.angular_momentum()\n",
    "        res =(-1)**int(j1+l2-0.5)*sqrt((2*j1+1)*(2*l1+1))\n",
    "        res *= clebsch_gordan(j1, 1, j2, m1, p, m2)\n",
    "        res *= clebsch_gordan(l1, 1, l2, 0, 0, 0)\n",
    "        res *= wigner_6j(l1,0.5,j1,j2,1,l2)\n",
    "        return res\n",
    "\n",
    "    # returns the c3 coefficient for the two states\n",
    "    def c3(self, stateI1, stateI2, stateF1, stateF2):\n",
    "        # electric dipole transitions\n",
    "        #print stateI1\n",
    "        #print stateI2\n",
    "        if(abs(stateI1.l-stateF1.l) != 1):\n",
    "            #print(1,stateI1, stateF1, stateI1.l, stateF1.l)\n",
    "            return 0\n",
    "        if(abs(stateI2.l-stateF2.l) != 1):\n",
    "            #print(2,stateI2, stateF2, stateI2.l, stateF2.l)\n",
    "            return 0\n",
    "\n",
    "        p = stateF1.mj - stateI1.mj # -1,0,+1\n",
    "        if abs(p)>1:\n",
    "            return 0\n",
    "        if stateI2.mj - stateF2.mj != p: # dmj = 0\n",
    "            return 0\n",
    "\n",
    "        a = self.AME(stateI1, stateF1, p)*self.RME(stateI1, stateF1)[0]\n",
    "        b = self.AME(stateI2, stateF2, -p)*self.RME(stateI2, stateF2)[0]\n",
    "        c = clebsch_gordan(1,1,2,p,-p,0)\n",
    "        return [N(-self.GHz_um3_factor*sqrt(6)*c*a*b), 'GHz/um**3', None]"
   ]
  },
  {
   "cell_type": "code",
   "execution_count": 5,
   "metadata": {},
   "outputs": [],
   "source": [
    "class State:\n",
    "    def __init__(self, n, l, j=None, mj=None):\n",
    "        self.n = int(n)\n",
    "        self.l = int(l)\n",
    "        if j is None:\n",
    "            self.j = j\n",
    "        else:\n",
    "            self.j = float(j)\n",
    "        if mj is None:\n",
    "            self.mj = mj\n",
    "        else:\n",
    "            self.mj = float(mj)\n",
    "        self.make_configuration()\n",
    "    \n",
    "    def make_configuration(self):\n",
    "        # l\n",
    "        if self.l <= 2:\n",
    "            self.l_label = ['S','P','D'][int(self.l)]\n",
    "        else:\n",
    "            self.l_label = chr(ord('F')+(int(self.l)-3))\n",
    "        # j    \n",
    "        if self.j is None:\n",
    "            self.j_label = ''\n",
    "        else:\n",
    "            if self.j - int(self.j) < 0.5:# is j an int or half int\n",
    "                self.j_label = str(int(self.j))\n",
    "            else:\n",
    "                self.j_label = '/'.join([str(int(2*self.j)),'2'])\n",
    "            #print(self.j_label)\n",
    "        # mj\n",
    "        if self.mj is None:\n",
    "            self.mj_label = ''\n",
    "        elif abs(self.mj - int(self.mj)) < 0.5:\n",
    "            self.mj_label = str(int(self.mj))\n",
    "        else:\n",
    "            self.mj_label = '/'.join([str(int(2*self.mj)),'2'])\n",
    "\n",
    "    def __repr__(self):\n",
    "        conf_str = str(self.n)+self.l_label\n",
    "        if self.j_label != '':\n",
    "            conf_str += '_'+self.j_label\n",
    "            if self.mj_label != '':\n",
    "                conf_str += ', mj='+self.mj_label\n",
    "        return conf_str\n",
    "\n",
    "    def state_tuple(self):\n",
    "        return (self.n, self.l, self.j, self.mj)\n",
    "    \n",
    "    def angular_momentum(self):\n",
    "        return self.state_tuple()[1:]"
   ]
  },
  {
   "cell_type": "code",
   "execution_count": 6,
   "metadata": {
    "collapsed": true
   },
   "outputs": [],
   "source": [
    "# adds error terms in quadrature\n",
    "def error_adder(*errTerms):\n",
    "    total = 0\n",
    "    for e in list(errTerms):\n",
    "        if e is None:\n",
    "            return None\n",
    "        total += e**2\n",
    "    return np.sqrt(total)"
   ]
  },
  {
   "cell_type": "code",
   "execution_count": 7,
   "metadata": {
    "collapsed": true
   },
   "outputs": [],
   "source": [
    "def QD(atom, state):# TODO enter low-lying level explicitly\n",
    "    n, l, j, mj = state.state_tuple()\n",
    "    js, ls, ns = (str(j), str(l), str(n))\n",
    "    \n",
    "    qdterms = [atom.QD0, atom.QD2, atom.QD4]\n",
    "    if not (j is None): # fine structure\n",
    "        # first look for explicitly defined values\n",
    "        try:\n",
    "            return atom.QD[ns][ls][js]\n",
    "        except:\n",
    "            pass\n",
    "        # if not a pre-defined value then calculate the value\n",
    "        try:\n",
    "            qds = [x[l][js][0] for x in qdterms]\n",
    "        except IndexError:\n",
    "            # defect is 0 for unlisted values\n",
    "            return [0 , '', None]\n",
    "        except KeyError:\n",
    "            # possible actual error\n",
    "            raise KeyError\n",
    "    else: # nl basis\n",
    "        try:\n",
    "            js1 = str(l-0.5)\n",
    "            js2 = str(l+0.5)\n",
    "            if l==0:\n",
    "                qds = [x[l]['0.5'][0] for x in qdterms]\n",
    "            else:\n",
    "                qds = [ (l*x[l][js1][0] + (l+1)*x[l][js2][0])/(2*l+1) for x in qdterms]\n",
    "        except IndexError:\n",
    "            # defect is 0 for unlisted values\n",
    "            return [0 , '', None]\n",
    "        except KeyError:\n",
    "            # possible actual error\n",
    "            raise KeyError\n",
    "    qd = 0\n",
    "    for i, x in enumerate(qds):\n",
    "        qd += x/((n-qds[0])**(2*i))\n",
    "    return [qd, '', None]    "
   ]
  },
  {
   "cell_type": "code",
   "execution_count": 8,
   "metadata": {},
   "outputs": [],
   "source": [
    "# returns the ionization energy for the input atom in the format\n",
    "# [ value, unit, uncertainty ], similar to scipy.constants\n",
    "def TermEnergy(atom, state):\n",
    "    try:\n",
    "        n, l, j, mj = state.state_tuple()\n",
    "        js, ls, ns = (str(j), str(l), str(n))\n",
    "        term = atom.TermEnergy[ns][ls][js]\n",
    "        #print(\"predefined term energy: {}\".format(term))\n",
    "    except KeyError:\n",
    "        # possible actual error\n",
    "        if abs(float(j)-float(l)) != 0.5:\n",
    "            print(n,j,l)\n",
    "            raise KeyError\n",
    "        # if j level is valid then perform calculation\n",
    "        qd = QD(atom, state)\n",
    "        try:\n",
    "            uncert = error_adder(\n",
    "                atom.Rydberg[2]/((int(n) - qd[0])**2),\n",
    "                2*atom.Rydberg[0]*qd[2]/((int(n) - qd[0])**3)\n",
    "            )\n",
    "        except TypeError:\n",
    "            uncert = None\n",
    "        term = [-atom.Rydberg[0]/((int(n) - qd[0])**2), atom.Rydberg[1], uncert]\n",
    "        #print(\"procedural term energy: {}\".format(term))\n",
    "    return term"
   ]
  },
  {
   "cell_type": "code",
   "execution_count": 9,
   "metadata": {
    "collapsed": true
   },
   "outputs": [],
   "source": [
    "def q_adder(q1, q2):\n",
    "    if q1[1] != q2[1]:\n",
    "        raise UnitError\n",
    "    if (q1[2] is None) or (q2[2] is None):\n",
    "        uncert = None\n",
    "    else:\n",
    "        uncert = q1[2]+q2[2]\n",
    "    return [q1[0]+q2[0], q1[1], uncert]"
   ]
  },
  {
   "cell_type": "code",
   "execution_count": 10,
   "metadata": {
    "collapsed": true
   },
   "outputs": [],
   "source": [
    "def TransitionFrequency(atom, state1, state2):\n",
    "    qd1 = QD(atom, state1)\n",
    "    qd2 = QD(atom, state2)\n",
    "    \n",
    "    return [c[0]*atom.Rydberg[0]*((state1.n-qd1[0])**(-2)-(state2.n-qd2[0])**(-2)), 'Hz', None]"
   ]
  },
  {
   "cell_type": "markdown",
   "metadata": {},
   "source": [
    "# RB87"
   ]
  },
  {
   "cell_type": "markdown",
   "metadata": {},
   "source": [
    "## Genernal Info"
   ]
  },
  {
   "cell_type": "code",
   "execution_count": 11,
   "metadata": {},
   "outputs": [
    {
     "name": "stdout",
     "output_type": "stream",
     "text": [
      "No database file found at data/RMEdbs/Rb87.sqlite3\n"
     ]
    }
   ],
   "source": [
    "Rb87=Atom('Rb87',37,1.5)\n",
    "Rb87.Configuration = '[Kr]5s1'\n",
    "Rb87.NGround = 5\n",
    "\n",
    "Rb87.mass = [1.443160648e-25, 'kg', 72e-34] # Steck (2015) [4]\n",
    "\n",
    "# simple error propagation\n",
    "rmeuncert = np.sqrt((Rb87.mass[0]**4)*(me[2]**2)+(me[0]**4)*(Rb87.mass[2]**2))/((me[0]+Rb87.mass[0])**2)\n",
    "Rb87.reduced_electron_mass = [me[0]/(1.0 + me[0]/Rb87.mass[0]), 'kg', rmeuncert]\n",
    "Rb87.Rydberg = [Ry[0]*(Rb87.reduced_electron_mass[0]/me[0]), '1/m', None]\n",
    "\n",
    "Rb87.TermEnergyGround = [-3369080.48, '1/m', 0.02] # ground state Hall http://dx.doi.org/10.1364/OL.3.000141"
   ]
  },
  {
   "cell_type": "code",
   "execution_count": 12,
   "metadata": {},
   "outputs": [],
   "source": [
    "Rb87.FD1 = [3.7710746322085408911e14, 'Hz', None] # Maric et al (2008) http://dx.doi.org/10.1103/PhysRevA.77.032502\n",
    "Rb87.FD2 = [3.8423048457422908911e14, 'Hz', None] # Marian et al (2004) http://dx.doi.org/10.1126/science.1105660\n",
    "Rb87.LambdaD1 = [c[0]/Rb87.FD1[0], 'm', None]\n",
    "Rb87.LambdaD2 = [c[0]/Rb87.FD2[0], 'm', None]\n",
    "Rb87.KD1 = [2*np.pi*Rb87.FD1[0]/c[0], 'rad/m', None]\n",
    "Rb87.KD2 = [2*np.pi*Rb87.FD2[0]/c[0], 'rad/m', None]\n",
    "Rb87.Ahfs = {\n",
    "        '5S1/2': [3.417341305452145e9, 'Hz', 45e-6] # Steck (2015) from [29]\n",
    "        ,'5P1/2': [408.3295e6, 'Hz', None] # Maric et al (2008) http://dx.doi.org/10.1103/PhysRevA.77.032502\n",
    "        ,'5P3/2': [84.7185e6, 'Hz', 2e3] # Steck (2015) from [9]\n",
    "    }\n",
    "Rb87.Bhfs = {\n",
    "        '5P3/2': [12.4965e6, 'Hz', 3.7e3] # Steck (2015) from [9]\n",
    "    }\n",
    "Rb87.Linewidth = {\n",
    "        '5P': [2*np.pi*6.065e6, '1/s', None] # Mark?\n",
    "        ,'5P1/2': [2*np.pi*5.7500e6, '1/s', 35e3] # Steck (2015) [18,19,21]\n",
    "        ,'5P3/2': [2*np.pi*6.0666e6, '1/s', 11e3] # Steck (2015) ?\n",
    "    }"
   ]
  },
  {
   "cell_type": "code",
   "execution_count": 13,
   "metadata": {
    "collapsed": true
   },
   "outputs": [],
   "source": [
    "Rb87.IsatD2 = {\n",
    "        'cycling' : [16.6933, 'W/m^2', 0.0035 ] # Steck (2015) ?\n",
    "        ,'isotropic' : [35.7713, 'W/m^2', 0.0074 ] # Steck (2015) ?\n",
    "        ,'pi' : [ 25.0399, 'W/m^2', 0.0052 ] # Steck (2015) ?, \n",
    "    }\n",
    "Rb87.IsatD1 = {\n",
    "        'pi' : [44.876, 'W/m^2', 0.031 ] # Steck (2015) ?\n",
    "    }"
   ]
  },
  {
   "cell_type": "markdown",
   "metadata": {},
   "source": [
    "## Select Experimental Spectral Lines"
   ]
  },
  {
   "cell_type": "code",
   "execution_count": 14,
   "metadata": {},
   "outputs": [],
   "source": [
    "Rb87.TermEnergy = { # explicit low lying level term energys\n",
    "    '4' : { # n=4\n",
    "        '2' : { #L=2 D\n",
    "            '1.5' : q_adder(Rb87.TermEnergyGround, [1935564.9, '1/m', None])\n",
    "            ,'2.5' : q_adder(Rb87.TermEnergyGround, [ 1935520.3, '1/m', None])\n",
    "        }\n",
    "        ,'3' : { #L=3 F\n",
    "            '2.5' : q_adder(Rb87.TermEnergyGround, [ 2679209.2, '1/m', None])\n",
    "            ,'3.5' : q_adder(Rb87.TermEnergyGround, [ 2679211.8, '1/m', None])\n",
    "        }\n",
    "    }\n",
    "    ,'5' : { # n=5\n",
    "        '0' : { #L=0 S\n",
    "            '0.5' : Rb87.TermEnergyGround\n",
    "        }\n",
    "        ,'1' : { #L=1 P\n",
    "            #'0.5' : q_adder(Rb87.TermEnergyGround, [ 1257895.098147, '1/m', None])\n",
    "            #,'1.5' : q_adder(Rb87.TermEnergyGround, [ 1281654.938993, '1/m', None])\n",
    "            '0.5' : q_adder(Rb87.TermEnergyGround, [ Rb87.FD1[0]/c[0], '1/m', None])\n",
    "            ,'1.5' : q_adder(Rb87.TermEnergyGround, [ Rb87.FD2[0]/c[0], '1/m', None])\n",
    "        }\n",
    "        ,'2' : { #L=2 D\n",
    "            '1.5' : q_adder(Rb87.TermEnergyGround, [ 2570053.6, '1/m', None])\n",
    "            ,'2.5' : q_adder(Rb87.TermEnergyGround, [ 2570349.8, '1/m', None])\n",
    "        }\n",
    "    }\n",
    "    ,'6' : { # n=6\n",
    "        '0' : { #L=0 S\n",
    "            '0.5' : q_adder(Rb87.TermEnergyGround, [ 2013251.0, '1/m', None])\n",
    "        }\n",
    "        ,'1' : { #L=1 P\n",
    "            '0.5' : q_adder(Rb87.TermEnergyGround, [ 2371508.1, '1/m', None])\n",
    "            ,'1.5' : q_adder(Rb87.TermEnergyGround, [ 2379259.1, '1/m', None])\n",
    "        }\n",
    "        ,'2' : { #L=2 D\n",
    "            '1.5' : q_adder(Rb87.TermEnergyGround, [ 2868712.7, '1/m', None])\n",
    "            ,'2.5' : q_adder(Rb87.TermEnergyGround, [ 2868939.0, '1/m', None])\n",
    "        }\n",
    "    }\n",
    "    ,'7' : { # n=7\n",
    "        '0' : { #L=0 S\n",
    "            '0.5' : q_adder(Rb87.TermEnergyGround, [ 2631143.7, '1/m', None])\n",
    "        }\n",
    "        ,'1' : { #L=1 P\n",
    "            '0.5' : q_adder(Rb87.TermEnergyGround, [ 2783502., '1/m', None])\n",
    "            ,'1.5' : q_adder(Rb87.TermEnergyGround, [ 2787011., '1/m', None])\n",
    "        }\n",
    "        ,'2' : { #L=2 D\n",
    "            '1.5' : q_adder(Rb87.TermEnergyGround, [ 2868712.7, '1/m', None])\n",
    "            ,'2.5' : q_adder(Rb87.TermEnergyGround, [ 2868939.0, '1/m', None])\n",
    "        }\n",
    "    }\n",
    "    ,'8' : { # n=8\n",
    "        '0' : { #L=0 S\n",
    "            '0.5' : q_adder(Rb87.TermEnergyGround, [ 2904681.6, '1/m', None])\n",
    "        }\n",
    "        ,'1' : { #L=1 P\n",
    "            '0.5' : q_adder(Rb87.TermEnergyGround, [ 2983494., '1/m', None])\n",
    "            ,'1.5' : q_adder(Rb87.TermEnergyGround, [ 2985379., '1/m', None])\n",
    "        }\n",
    "    }\n",
    "    ,'9' : { # n=9\n",
    "        '1' : { #L=1 P\n",
    "            '0.5' : q_adder(Rb87.TermEnergyGround, [ 3095894., '1/m', None])\n",
    "            ,'1.5' : q_adder(Rb87.TermEnergyGround, [ 3097022., '1/m', None])\n",
    "        }\n",
    "    }\n",
    "    ,'10' : { # n=10\n",
    "        '1' : { #L=1 P\n",
    "            '0.5' : q_adder(Rb87.TermEnergyGround, [ 3165388., '1/m', None])\n",
    "            ,'1.5' : q_adder(Rb87.TermEnergyGround, [ 3166119., '1/m', None])\n",
    "        }\n",
    "    }\n",
    "    ,'11' : { # n=11\n",
    "        '1' : { #L=1 P\n",
    "            '0.5' : q_adder(Rb87.TermEnergyGround, [ 3211358., '1/m', None])\n",
    "            ,'1.5' : q_adder(Rb87.TermEnergyGround, [ 3211855., '1/m', None])\n",
    "        }\n",
    "    }\n",
    "    ,'12' : { # n=11\n",
    "        '1' : { #L=1 P\n",
    "            '0.5' : q_adder(Rb87.TermEnergyGround, [ 3243350., '1/m', None])\n",
    "            ,'1.5' : q_adder(Rb87.TermEnergyGround, [ 3243704., '1/m', None])\n",
    "        }\n",
    "    }\n",
    "}"
   ]
  },
  {
   "cell_type": "markdown",
   "metadata": {},
   "source": [
    "## Quantum Defects"
   ]
  },
  {
   "cell_type": "code",
   "execution_count": 15,
   "metadata": {
    "collapsed": true
   },
   "outputs": [],
   "source": [
    "Rb87.QD0 = [ # 0th order qd terms\n",
    "    { # L = 0, S\n",
    "        '0.5' : [3.1311804, '', None]\n",
    "    }\n",
    "    ,{ # L = 1, P\n",
    "        '0.5' : [2.6548849, '', None]\n",
    "        ,'1.5': [2.6416737, '', None]\n",
    "    }\n",
    "    ,{ # L = 2, D\n",
    "        '1.5' : [1.34809171, '', None]\n",
    "        ,'2.5': [1.34646572, '', None]\n",
    "    }\n",
    "    ,{ # L = 3, F\n",
    "        '2.5' : [0.0165192, '', None]\n",
    "        ,'3.5': [0.0165437, '', None]\n",
    "    }\n",
    "]\n",
    "Rb87.QD2 = [ # 2nd order qd terms\n",
    "    { # L = 0, S\n",
    "        '0.5' : [0.1784, '', None]\n",
    "    }\n",
    "    ,{ # L = 1, P\n",
    "        '0.5' : [0.2900, '', None]\n",
    "        ,'1.5': [0.2950, '', None]\n",
    "    }\n",
    "    ,{ # L = 2, D\n",
    "        '1.5' : [-0.60286, '', None]\n",
    "        ,'2.5': [-0.59600, '', None]\n",
    "    }\n",
    "    ,{ # L = 3, F\n",
    "        '2.5' : [-0.085, '', None]\n",
    "        ,'3.5': [-0.086, '', None]\n",
    "    }\n",
    "]\n",
    "Rb87.QD4 = [ # 4th order qd terms\n",
    "    { # L = 0, S\n",
    "        '0.5' : [-1.8, '', None]\n",
    "    }\n",
    "    ,{ # L = 1, P\n",
    "        '0.5' : [-7.904, '', None]\n",
    "        ,'1.5': [-0.97495, '', None]\n",
    "    }\n",
    "    ,{ # L = 2, D\n",
    "        '1.5' : [-1.50517, '', None]\n",
    "        ,'2.5': [-1.50517, '', None]\n",
    "    }\n",
    "    ,{ # L = 3, F\n",
    "        '2.5' : [-0.36005, '', None]\n",
    "        ,'3.5': [-0.36005, '', None]\n",
    "    }\n",
    "]"
   ]
  },
  {
   "cell_type": "markdown",
   "metadata": {},
   "source": [
    "## Generating Quantum Defects from Explicit Spectral Lines"
   ]
  },
  {
   "cell_type": "code",
   "execution_count": 16,
   "metadata": {},
   "outputs": [],
   "source": [
    "# calculate defects for low-lying levels from the spectroscopy data\n",
    "Rb87.QD = {}\n",
    "for n, nd in Rb87.TermEnergy.items():\n",
    "    Rb87.QD[n] = {}\n",
    "    for l, ld in nd.items():\n",
    "        Rb87.QD[n][l]={}\n",
    "        for j, jd in ld.items():\n",
    "            term = TermEnergy(Rb87, State(n, l, j))\n",
    "            try:\n",
    "                uncert = error_adder( Rb87.Rydberg[2]/(2*np.sqrt(-Rb87.Rydberg[0]*term[0])), term[2]*np.sqrt(-Rb87.Rydberg[0]/(4*(term[0]**3))) )\n",
    "            except TypeError:\n",
    "                uncert = None\n",
    "            Rb87.QD[n][l][j] = [int(n) - np.sqrt(-Rb87.Rydberg[0]/term[0]), '', uncert]"
   ]
  },
  {
   "cell_type": "markdown",
   "metadata": {},
   "source": [
    "## Verification of Defects with respect to Mark's old code"
   ]
  },
  {
   "cell_type": "code",
   "execution_count": 17,
   "metadata": {},
   "outputs": [
    {
     "data": {
      "text/plain": [
       "[2.6489627203811255, '', None]"
      ]
     },
     "execution_count": 17,
     "metadata": {},
     "output_type": "execute_result"
    }
   ],
   "source": [
    "QD(Rb87,State(9,1,1.5))"
   ]
  },
  {
   "cell_type": "code",
   "execution_count": 18,
   "metadata": {},
   "outputs": [
    {
     "name": "stdout",
     "output_type": "stream",
     "text": [
      "3.131785 (3.131785): -0.000000\n",
      "2.648963 (2.648971): -0.000008\n",
      "1.335852 (1.336291): -0.000439\n",
      "0.015423 (0.015478): -0.000055\n",
      "0.000000 (0.000000): 0.000000\n",
      "3.131785 (3.131785): -0.000000\n",
      "2.646464 (2.646464): 0.000000\n",
      "1.336454 (1.336454): 0.000000\n",
      "0.015418 (0.015418): -0.000000\n",
      "0.000000 (0.000000): 0.000000\n",
      "3.195237 (3.195237): -0.000000\n",
      "2.707178 (2.707178): -0.000000\n",
      "1.293401 (1.293400): 0.000001\n",
      "3.155059 (3.155060): -0.000001\n",
      "2.670359 (2.670360): -0.000001\n"
     ]
    }
   ],
   "source": [
    "#sI = State(5,0,0.5)\n",
    "test_cases = [\n",
    "    ( QD(Rb87, State(20,0,0.5)), 3.13178510955 ),\n",
    "    ( QD(Rb87, State(9,1,1.5)), 2.64897056637 ),\n",
    "    ( QD(Rb87, State(9,2,2.5)), 1.33629100633 ),\n",
    "    ( QD(Rb87, State(9,3,3.5)), 0.0154780575013 ),\n",
    "    ( QD(Rb87, State(9,4,4.5)), 0 ),\n",
    "    ( QD(Rb87, State(20,0)), 3.13178510955),\n",
    "    ( QD(Rb87, State(30,1)), 2.64646359904),\n",
    "    ( QD(Rb87, State(9,2)), 1.33645400157),\n",
    "    ( QD(Rb87, State(9,3)), 0.0154175880834),\n",
    "    ( QD(Rb87, State(9,4)), 0),\n",
    "    ( QD(Rb87, State(5,0,0.5)), 3.195237315299605),\n",
    "    ( QD(Rb87, State(5,1,1.5)), 2.70717821684838),\n",
    "    ( QD(Rb87, State(5,2,2.5)), 1.2934),\n",
    "    ( QD(Rb87, State(6,0,0.5)), 3.15506),\n",
    "    ( QD(Rb87, State(6,1,1.5)), 2.67036),\n",
    "]\n",
    "\n",
    "for qd_new, qd_old in test_cases:\n",
    "    if __name__ == \"__main__\":\n",
    "        print(\"{:.6f} ({:.6f}): {:.6f}\".format(qd_new[0], qd_old, qd_new[0]- qd_old))"
   ]
  },
  {
   "cell_type": "code",
   "execution_count": 19,
   "metadata": {},
   "outputs": [
    {
     "data": {
      "text/plain": [
       "[384230484574228.94, 'Hz', None]"
      ]
     },
     "execution_count": 19,
     "metadata": {},
     "output_type": "execute_result"
    }
   ],
   "source": [
    "s1 = State(5,0,0.5)\n",
    "s2 = State(5,1,1.5)\n",
    "TransitionFrequency(Rb87, s1, s2)"
   ]
  },
  {
   "cell_type": "code",
   "execution_count": 20,
   "metadata": {},
   "outputs": [
    {
     "name": "stdout",
     "output_type": "stream",
     "text": [
      "[625434875142029.38, 'Hz', None]\n"
     ]
    },
    {
     "data": {
      "text/plain": [
       "4.7933441180733718e-07"
      ]
     },
     "execution_count": 20,
     "metadata": {},
     "output_type": "execute_result"
    }
   ],
   "source": [
    "s1 = State(5,1,1.5)\n",
    "s2 = State(97,2,2.5)\n",
    "if __name__ == \"__main__\":\n",
    "    print(TransitionFrequency(Rb87, s1, s2))\n",
    "c[0]/TransitionFrequency(Rb87, s1, s2)[0]"
   ]
  },
  {
   "cell_type": "markdown",
   "metadata": {
    "collapsed": true
   },
   "source": [
    "## Verification of Radial Matrix Elements"
   ]
  },
  {
   "cell_type": "code",
   "execution_count": 21,
   "metadata": {
    "scrolled": true
   },
   "outputs": [
    {
     "name": "stdout",
     "output_type": "stream",
     "text": [
      "No database file found at data/RMEdbs/Rb87.sqlite3\n",
      "-2.514502 (-2.514502): -0.000000\n",
      "-2.514502 (-2.514502): -0.000000\n",
      "-2.035193 (-2.035193): -0.000000\n"
     ]
    }
   ],
   "source": [
    "try:\n",
    "    Rb87.registerRMEdb() # just use the default\n",
    "except IOError:\n",
    "    try:\n",
    "        Rb87.registerRMEdb(None, os.path.join('..',default_rmedb_path)) # just use the default\n",
    "    except IOError:\n",
    "        print('this is dumb')\n",
    "\n",
    "test_cases = [\n",
    "  ( Rb87.RME(State(12, 2, 1.5), State(11, 1, 1.5)), -2.51450167632 ),\n",
    "  ( Rb87.RME(State(11, 1, 1.5), State(12, 2, 1.5)), -2.51450167632 ),\n",
    "  ( Rb87.RME(State(11, 1, 0.5), State(12, 2, 1.5)), -2.03519312761 ),\n",
    "]\n",
    "\n",
    "for rme_new, rme_old in test_cases:\n",
    "    if __name__ == \"__main__\":\n",
    "        print(\"{:.6f} ({:.6f}): {:.6f}\".format(rme_new[0], rme_old, rme_new[0]- rme_old))"
   ]
  },
  {
   "cell_type": "code",
   "execution_count": 26,
   "metadata": {
    "scrolled": false
   },
   "outputs": [
    {
     "name": "stdout",
     "output_type": "stream",
     "text": [
      "(90, -194.77521201372662, -194.77521201372662)\n",
      "(91, -272.34982902121124, -272.34982902121124)\n",
      "(92, -411.8749611671779, -411.8749611671779)\n",
      "(93, -708.8789379996279, -708.8789379996279)\n",
      "(94, -1574.6971118704344, -1574.6971118704344)\n",
      "(95, -7525.816650350212, -7525.816650350212)\n",
      "(96, 12210.078835388675, 12210.078835388675)\n",
      "(97, 385.95339444060164, 385.95339444060164)\n",
      "(98, 82.21117926747742, 82.21117926747742)\n",
      "(99, 26.487329165910236, 26.487329165910236)\n",
      "(100, 9.39223611845973, 9.39223611845973)\n",
      "(101, 2.727478579526263, 2.727478579526263)\n",
      "(102, -0.23008752245759778, -0.23008752245759778)\n",
      "(103, -1.6337011254937437, -1.6337011254937437)\n",
      "(104, -2.3117757089354525, -2.3117757089354525)\n",
      "(105, -2.625485182560592, -2.625485182560592)\n",
      "(106, -2.7471323069590907, -2.7471323069590907)\n",
      "(107, -2.764602846121888, -2.764602846121888)\n",
      "(108, -2.725039094250452, -2.725039094250452)\n",
      "(109, -2.6546981958791855, -2.6546981958791855)\n",
      "(110, -2.5686058202881745, -2.5686058202881745)\n"
     ]
    }
   ],
   "source": [
    "for row in Rb87.RMEs(State(97,2,2.5,2.5), [90,110], 3, 3.5):\n",
    "    if __name__ == \"__main__\":\n",
    "        print (row[0],\n",
    "              Rb87.RMEs(State(97,2,2.5,2.5), [row[0],row[0]], 3, 3.5).fetchone()[1],\n",
    "              Rb87.RME(State(97,2,2.5,2.5),State(row[0],3,3.5,3.5))[0]\n",
    "        )"
   ]
  },
  {
   "cell_type": "code",
   "execution_count": 27,
   "metadata": {},
   "outputs": [
    {
     "name": "stdout",
     "output_type": "stream",
     "text": [
      "(90, -2.513186831812048, -2.513186831812048)\n",
      "(91, -1.9621119646918812, -1.9621119646918812)\n",
      "(92, -0.7290345650867698, -0.7290345650867698)\n",
      "(93, 1.9935230281911807, 1.9935230281911807)\n",
      "(94, 8.326953072226484, 8.326953072226484)\n",
      "(95, 24.958892873064507, 24.958892873064507)\n",
      "(96, 80.18803483663844, 80.18803483663844)\n",
      "(97, 385.95339444060164, 385.95339444060164)\n",
      "(98, 12465.236055479743, 12465.236055479743)\n",
      "(99, -7848.409078945486, -7848.409078945486)\n",
      "(100, -1676.8546232141957, -1676.8546232141957)\n",
      "(101, -770.832449762646, -770.832449762646)\n",
      "(102, -457.36109072838707, -457.36109072838707)\n",
      "(103, -308.84833384291545, -308.84833384291545)\n",
      "(104, -225.57835928539768, -225.57835928539768)\n",
      "(105, -173.67232853956827, -173.67232853956827)\n",
      "(106, -138.86587305442026, -138.86587305442026)\n",
      "(107, -114.24373485519399, -114.24373485519399)\n",
      "(108, -96.09906318694853, -96.09906318694853)\n",
      "(109, -82.28893932392717, -82.28893932392717)\n",
      "(110, -71.49928856375733, -71.49928856375733)\n"
     ]
    }
   ],
   "source": [
    "for row in Rb87.RMEs(State(97,3,3.5,3.5), [90,110], 2, 2.5):\n",
    "    if __name__ == \"__main__\":\n",
    "        print (row[0],\n",
    "              Rb87.RMEs(State(97,3,3.5,3.5), [row[0],row[0]], 2, 2.5).fetchone()[1],\n",
    "              Rb87.RME(State(97,3,3.5,3.5),State(row[0],2,2.5,2.5))[0]\n",
    "        )"
   ]
  },
  {
   "cell_type": "markdown",
   "metadata": {},
   "source": [
    "## Verification of Angular Matrix Elements"
   ]
  },
  {
   "cell_type": "code",
   "execution_count": 23,
   "metadata": {},
   "outputs": [
    {
     "data": {
      "text/plain": [
       "0.489897948556636"
      ]
     },
     "execution_count": 23,
     "metadata": {},
     "output_type": "execute_result"
    }
   ],
   "source": [
    "N(Rb87.AME(State(5,1,1.5,0.5),State(5,2,2.5,1.5),1))"
   ]
  },
  {
   "cell_type": "code",
   "execution_count": 24,
   "metadata": {},
   "outputs": [
    {
     "data": {
      "text/plain": [
       "0.282842712474619*sqrt(3)"
      ]
     },
     "execution_count": 24,
     "metadata": {},
     "output_type": "execute_result"
    }
   ],
   "source": [
    "Rb87.AME(State(5,1,1.5,0.5),State(5,2,2.5,1.5),1)"
   ]
  },
  {
   "cell_type": "markdown",
   "metadata": {},
   "source": [
    "## Verification of C_3 terms"
   ]
  },
  {
   "cell_type": "code",
   "execution_count": 25,
   "metadata": {},
   "outputs": [
    {
     "name": "stdout",
     "output_type": "stream",
     "text": [
      "21.796504 (21.796500): 0.000004\n",
      "61.163905 (61.163900): 0.000005\n"
     ]
    }
   ],
   "source": [
    "s0=State(97,2,2.5,2.5)\n",
    "sf1=State(99,1,1.5,1.5)\n",
    "sf2=State(95,3,3.5,3.5)\n",
    " # check against older values\n",
    "\n",
    "sf1a=State(98,1,1.5,1.5)\n",
    "sf2a=State(96,3,3.5,3.5)\n",
    "\n",
    "test_cases = [\n",
    "  ( Rb87.c3(s0,s0,sf1,sf2), 21.7965 ),\n",
    "  ( Rb87.c3(s0,s0,sf1a,sf2a), 61.1639 ),\n",
    "]\n",
    "\n",
    "for c3_new, c3_old in test_cases:\n",
    "    if __name__ == \"__main__\":\n",
    "        print(\"{:.6f} ({:.6f}): {:.6f}\".format(c3_new[0], c3_old, c3_new[0]- c3_old))"
   ]
  }
 ],
 "metadata": {
  "kernelspec": {
   "display_name": "Python 3",
   "language": "python",
   "name": "python3"
  },
  "language_info": {
   "codemirror_mode": {
    "name": "ipython",
    "version": 3
   },
   "file_extension": ".py",
   "mimetype": "text/x-python",
   "name": "python",
   "nbconvert_exporter": "python",
   "pygments_lexer": "ipython3",
   "version": "3.5.2"
  }
 },
 "nbformat": 4,
 "nbformat_minor": 1
}
